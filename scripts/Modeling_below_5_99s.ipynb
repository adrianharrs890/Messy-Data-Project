{
 "cells": [
  {
   "cell_type": "code",
   "execution_count": 11,
   "metadata": {},
   "outputs": [],
   "source": [
    "from numpy import loadtxt\n",
    "import xgboost as xgb\n",
    "from sklearn.linear_model import LinearRegression\n",
    "from sklearn.model_selection import train_test_split\n",
    "from sklearn.metrics import accuracy_score\n",
    "from sklearn.model_selection import cross_val_score, KFold\n",
    "import numpy as np\n",
    "import pandas as pd\n",
    "import time\n",
    "import json\n",
    "import os \n",
    "import shap\n",
    "\n",
    "import matplotlib.pyplot as plt \n",
    "\n",
    "os.chdir('/Users/adrianharris/Desktop/Messy-Data-Project')\n",
    "\n",
    "path = os.getcwd()"
   ]
  },
  {
   "cell_type": "code",
   "execution_count": 12,
   "metadata": {},
   "outputs": [],
   "source": [
    "dataset = pd.read_csv('Data/feature_eng_below_5_99s_data.csv')"
   ]
  },
  {
   "cell_type": "code",
   "execution_count": 13,
   "metadata": {},
   "outputs": [
    {
     "data": {
      "text/html": [
       "<div>\n",
       "<style scoped>\n",
       "    .dataframe tbody tr th:only-of-type {\n",
       "        vertical-align: middle;\n",
       "    }\n",
       "\n",
       "    .dataframe tbody tr th {\n",
       "        vertical-align: top;\n",
       "    }\n",
       "\n",
       "    .dataframe thead th {\n",
       "        text-align: right;\n",
       "    }\n",
       "</style>\n",
       "<table border=\"1\" class=\"dataframe\">\n",
       "  <thead>\n",
       "    <tr style=\"text-align: right;\">\n",
       "      <th></th>\n",
       "      <th>level_overall</th>\n",
       "      <th>level_atk</th>\n",
       "      <th>level_def</th>\n",
       "      <th>level_str</th>\n",
       "      <th>level_constiution</th>\n",
       "      <th>level_range</th>\n",
       "      <th>level_prayer</th>\n",
       "      <th>level_magic</th>\n",
       "      <th>level_cooking</th>\n",
       "      <th>level_wood_cutting</th>\n",
       "      <th>...</th>\n",
       "      <th>total_xp_overall</th>\n",
       "      <th>cluster</th>\n",
       "      <th>Basic_member_pure</th>\n",
       "      <th>Obby_Mauler_Pure</th>\n",
       "      <th>Black_Pure</th>\n",
       "      <th>Turmoil_Proselyte_Pure</th>\n",
       "      <th>Barrows_Pure</th>\n",
       "      <th>Anti_Pure</th>\n",
       "      <th>Summoning_Tank_Defence</th>\n",
       "      <th>Skiller_Pure</th>\n",
       "    </tr>\n",
       "  </thead>\n",
       "  <tbody>\n",
       "    <tr>\n",
       "      <th>0</th>\n",
       "      <td>1521</td>\n",
       "      <td>65</td>\n",
       "      <td>65</td>\n",
       "      <td>63</td>\n",
       "      <td>65</td>\n",
       "      <td>57</td>\n",
       "      <td>55</td>\n",
       "      <td>64</td>\n",
       "      <td>74</td>\n",
       "      <td>65</td>\n",
       "      <td>...</td>\n",
       "      <td>22665814</td>\n",
       "      <td>1</td>\n",
       "      <td>0</td>\n",
       "      <td>0</td>\n",
       "      <td>0</td>\n",
       "      <td>0</td>\n",
       "      <td>0</td>\n",
       "      <td>0</td>\n",
       "      <td>0</td>\n",
       "      <td>0</td>\n",
       "    </tr>\n",
       "    <tr>\n",
       "      <th>1</th>\n",
       "      <td>755</td>\n",
       "      <td>64</td>\n",
       "      <td>1</td>\n",
       "      <td>81</td>\n",
       "      <td>74</td>\n",
       "      <td>1</td>\n",
       "      <td>52</td>\n",
       "      <td>30</td>\n",
       "      <td>38</td>\n",
       "      <td>36</td>\n",
       "      <td>...</td>\n",
       "      <td>4669413</td>\n",
       "      <td>1</td>\n",
       "      <td>0</td>\n",
       "      <td>0</td>\n",
       "      <td>0</td>\n",
       "      <td>0</td>\n",
       "      <td>0</td>\n",
       "      <td>0</td>\n",
       "      <td>0</td>\n",
       "      <td>0</td>\n",
       "    </tr>\n",
       "    <tr>\n",
       "      <th>2</th>\n",
       "      <td>335</td>\n",
       "      <td>64</td>\n",
       "      <td>41</td>\n",
       "      <td>36</td>\n",
       "      <td>40</td>\n",
       "      <td>57</td>\n",
       "      <td>18</td>\n",
       "      <td>1</td>\n",
       "      <td>1</td>\n",
       "      <td>1</td>\n",
       "      <td>...</td>\n",
       "      <td>784234</td>\n",
       "      <td>1</td>\n",
       "      <td>0</td>\n",
       "      <td>0</td>\n",
       "      <td>0</td>\n",
       "      <td>0</td>\n",
       "      <td>0</td>\n",
       "      <td>0</td>\n",
       "      <td>0</td>\n",
       "      <td>0</td>\n",
       "    </tr>\n",
       "    <tr>\n",
       "      <th>3</th>\n",
       "      <td>659</td>\n",
       "      <td>64</td>\n",
       "      <td>62</td>\n",
       "      <td>64</td>\n",
       "      <td>64</td>\n",
       "      <td>44</td>\n",
       "      <td>24</td>\n",
       "      <td>47</td>\n",
       "      <td>1</td>\n",
       "      <td>80</td>\n",
       "      <td>...</td>\n",
       "      <td>3889038</td>\n",
       "      <td>1</td>\n",
       "      <td>0</td>\n",
       "      <td>0</td>\n",
       "      <td>0</td>\n",
       "      <td>0</td>\n",
       "      <td>0</td>\n",
       "      <td>0</td>\n",
       "      <td>0</td>\n",
       "      <td>0</td>\n",
       "    </tr>\n",
       "    <tr>\n",
       "      <th>4</th>\n",
       "      <td>1087</td>\n",
       "      <td>64</td>\n",
       "      <td>64</td>\n",
       "      <td>64</td>\n",
       "      <td>65</td>\n",
       "      <td>49</td>\n",
       "      <td>46</td>\n",
       "      <td>50</td>\n",
       "      <td>61</td>\n",
       "      <td>56</td>\n",
       "      <td>...</td>\n",
       "      <td>3695045</td>\n",
       "      <td>1</td>\n",
       "      <td>0</td>\n",
       "      <td>0</td>\n",
       "      <td>0</td>\n",
       "      <td>0</td>\n",
       "      <td>0</td>\n",
       "      <td>0</td>\n",
       "      <td>0</td>\n",
       "      <td>0</td>\n",
       "    </tr>\n",
       "  </tbody>\n",
       "</table>\n",
       "<p>5 rows × 39 columns</p>\n",
       "</div>"
      ],
      "text/plain": [
       "   level_overall  level_atk  level_def  level_str  level_constiution  \\\n",
       "0           1521         65         65         63                 65   \n",
       "1            755         64          1         81                 74   \n",
       "2            335         64         41         36                 40   \n",
       "3            659         64         62         64                 64   \n",
       "4           1087         64         64         64                 65   \n",
       "\n",
       "   level_range  level_prayer  level_magic  level_cooking  level_wood_cutting  \\\n",
       "0           57            55           64             74                  65   \n",
       "1            1            52           30             38                  36   \n",
       "2           57            18            1              1                   1   \n",
       "3           44            24           47              1                  80   \n",
       "4           49            46           50             61                  56   \n",
       "\n",
       "   ...  total_xp_overall  cluster  Basic_member_pure  Obby_Mauler_Pure  \\\n",
       "0  ...          22665814        1                  0                 0   \n",
       "1  ...           4669413        1                  0                 0   \n",
       "2  ...            784234        1                  0                 0   \n",
       "3  ...           3889038        1                  0                 0   \n",
       "4  ...           3695045        1                  0                 0   \n",
       "\n",
       "   Black_Pure  Turmoil_Proselyte_Pure  Barrows_Pure  Anti_Pure  \\\n",
       "0           0                       0             0          0   \n",
       "1           0                       0             0          0   \n",
       "2           0                       0             0          0   \n",
       "3           0                       0             0          0   \n",
       "4           0                       0             0          0   \n",
       "\n",
       "   Summoning_Tank_Defence  Skiller_Pure  \n",
       "0                       0             0  \n",
       "1                       0             0  \n",
       "2                       0             0  \n",
       "3                       0             0  \n",
       "4                       0             0  \n",
       "\n",
       "[5 rows x 39 columns]"
      ]
     },
     "execution_count": 13,
     "metadata": {},
     "output_type": "execute_result"
    }
   ],
   "source": [
    "df = dataset.drop(\"player\", axis=1)\n",
    "\n",
    "df.head()\n"
   ]
  },
  {
   "cell_type": "code",
   "execution_count": 14,
   "metadata": {},
   "outputs": [],
   "source": [
    "# split data into X and y\n",
    "\n",
    "\n",
    "X = df.loc[:, ~df.columns.isin(['total_xp_overall', 'level_overall'])]\n",
    "Y = df.loc[:, 'total_xp_overall']\n",
    "\n",
    "# Training and Testing data\n",
    "seed = 7\n",
    "test_size = 0.33\n",
    "X_train, X_test, y_train, y_test = train_test_split(X, Y, test_size=test_size, random_state=seed)\n"
   ]
  },
  {
   "cell_type": "code",
   "execution_count": 15,
   "metadata": {},
   "outputs": [
    {
     "data": {
      "text/plain": [
       "0.9993009459889775"
      ]
     },
     "execution_count": 15,
     "metadata": {},
     "output_type": "execute_result"
    }
   ],
   "source": [
    "xgbr = xgb.XGBRegressor(verbosity=0) \n",
    "xgbr.fit(X_train, y_train)\n",
    "\n",
    "y_pred = xgbr.predict(X_test)\n",
    "score = xgbr.score(X_train, y_train) \n",
    "score"
   ]
  },
  {
   "cell_type": "code",
   "execution_count": 16,
   "metadata": {},
   "outputs": [
    {
     "name": "stdout",
     "output_type": "stream",
     "text": [
      "Mean cross-validation score: 0.90\n"
     ]
    }
   ],
   "source": [
    "scores = cross_val_score(xgbr,X_train, y_train,cv=10)\n",
    "print(\"Mean cross-validation score: %.2f\" % scores.mean())"
   ]
  },
  {
   "cell_type": "code",
   "execution_count": 17,
   "metadata": {},
   "outputs": [
    {
     "data": {
      "image/png": "[encoded data removed]",
      "text/plain": [
       "<Figure size 432x288 with 1 Axes>"
      ]
     },
     "metadata": {
      "needs_background": "light"
     },
     "output_type": "display_data"
    }
   ],
   "source": [
    "x_ax = range(len(y_test))\n",
    "plt.plot(x_ax, y_test, label=\"original\")\n",
    "plt.plot(x_ax, y_pred, label=\"predicted\")\n",
    "plt.title(\"Test and predicted data\")\n",
    "plt.legend()\n",
    "plt.show()"
   ]
  },
  {
   "cell_type": "code",
   "execution_count": 18,
   "metadata": {},
   "outputs": [
    {
     "name": "stderr",
     "output_type": "stream",
     "text": [
      "ntree_limit is deprecated, use `iteration_range` or model slicing instead.\n"
     ]
    },
    {
     "data": {
      "image/png": "[encoded data removed]",
      "text/plain": [
       "<Figure size 576x684 with 2 Axes>"
      ]
     },
     "metadata": {
      "needs_background": "light"
     },
     "output_type": "display_data"
    }
   ],
   "source": [
    "explainer = shap.TreeExplainer(xgbr)\n",
    "shap_values = explainer.shap_values(X_test)\n",
    "plot = shap.summary_plot(shap_values,X_test)"
   ]
  },
  {
   "cell_type": "code",
   "execution_count": 19,
   "metadata": {},
   "outputs": [
    {
     "name": "stderr",
     "output_type": "stream",
     "text": [
      "Using TensorFlow backend.\n"
     ]
    }
   ],
   "source": [
    "import math\n",
    "import keras\n",
    "from keras.models import Sequential\n",
    "from keras.layers import Dense\n",
    "from keras.layers import LSTM\n",
    "from sklearn.preprocessing import MinMaxScaler\n",
    "from sklearn.metrics import mean_squared_error\n",
    "from sklearn.preprocessing import RobustScaler \n",
    "\n",
    "from scipy import stats\n",
    "\n",
    "from tensorflow.keras import Sequential\n",
    "from tensorflow.keras.layers import Conv2D, Flatten, Dense, Dropout"
   ]
  },
  {
   "cell_type": "code",
   "execution_count": 21,
   "metadata": {},
   "outputs": [],
   "source": [
    "\n",
    "nn_x_train = np.array(X_train)\n",
    "nn_x_test = np.array(X_test)\n",
    "\n",
    "nn_y_train = np.array(y_train)\n",
    "nn_y_test = np.array(y_test)"
   ]
  },
  {
   "cell_type": "code",
   "execution_count": 22,
   "metadata": {},
   "outputs": [],
   "source": [
    "model = Sequential()\n",
    "model.add(Dense(20, input_dim = len(nn_x_train[0,:]), activation = 'relu')) \n",
    "model.add(Dense(10, activation =  'gelu' ))\n",
    "model.add(Dense(10, activation =  'gelu' ))\n",
    "model.add(Dropout(0.8))\n",
    "model.add(Dense(8, activation =  'relu'))\n",
    "model.add(Dense(1, activation = 'sigmoid'))\n"
   ]
  },
  {
   "cell_type": "code",
   "execution_count": 23,
   "metadata": {},
   "outputs": [],
   "source": [
    "model.compile(loss = 'mse', optimizer = 'adam', metrics = ['accuracy'])"
   ]
  },
  {
   "cell_type": "code",
   "execution_count": 24,
   "metadata": {},
   "outputs": [
    {
     "name": "stdout",
     "output_type": "stream",
     "text": [
      "Epoch 1/10\n",
      "395/395 [==============================] - 1s 2ms/step - loss: 2954572988363041.5000 - accuracy: 0.0940 - val_loss: 3096960793837568.0000 - val_accuracy: 0.1087\n",
      "Epoch 2/10\n",
      "395/395 [==============================] - 0s 822us/step - loss: 3212750569457436.5000 - accuracy: 0.1105 - val_loss: 3096960793837568.0000 - val_accuracy: 0.1087\n",
      "Epoch 3/10\n",
      "395/395 [==============================] - 0s 811us/step - loss: 3257307814918537.0000 - accuracy: 0.1080 - val_loss: 3096960793837568.0000 - val_accuracy: 0.1087\n",
      "Epoch 4/10\n",
      "395/395 [==============================] - 0s 810us/step - loss: 3247587084444392.5000 - accuracy: 0.1084 - val_loss: 3096960793837568.0000 - val_accuracy: 0.1087\n",
      "Epoch 5/10\n",
      "395/395 [==============================] - 0s 830us/step - loss: 3528800904638257.0000 - accuracy: 0.1087 - val_loss: 3096960793837568.0000 - val_accuracy: 0.1087\n",
      "Epoch 6/10\n",
      "395/395 [==============================] - 0s 846us/step - loss: 3275640735046439.0000 - accuracy: 0.1081 - val_loss: 3096960793837568.0000 - val_accuracy: 0.1087\n",
      "Epoch 7/10\n",
      "395/395 [==============================] - 0s 806us/step - loss: 2858315623996199.0000 - accuracy: 0.1071 - val_loss: 3096960793837568.0000 - val_accuracy: 0.1087\n",
      "Epoch 8/10\n",
      "395/395 [==============================] - 0s 815us/step - loss: 2930189363929005.5000 - accuracy: 0.1096 - val_loss: 3096960793837568.0000 - val_accuracy: 0.1087\n",
      "Epoch 9/10\n",
      "395/395 [==============================] - 0s 818us/step - loss: 3134150374376582.5000 - accuracy: 0.1125 - val_loss: 3096960793837568.0000 - val_accuracy: 0.1087\n",
      "Epoch 10/10\n",
      "395/395 [==============================] - 0s 816us/step - loss: 3355763720746739.0000 - accuracy: 0.1100 - val_loss: 3096960793837568.0000 - val_accuracy: 0.1087\n"
     ]
    }
   ],
   "source": [
    "history = model.fit(x = nn_x_train, y = nn_y_train , validation_split=0.2, epochs = 10, verbose = 1)"
   ]
  },
  {
   "cell_type": "code",
   "execution_count": 25,
   "metadata": {},
   "outputs": [
    {
     "data": {
      "image/png": "[encoded data removed]",
      "text/plain": [
       "<Figure size 432x288 with 1 Axes>"
      ]
     },
     "metadata": {
      "needs_background": "light"
     },
     "output_type": "display_data"
    }
   ],
   "source": [
    "# Training loss \n",
    "\n",
    "plt.plot(history.history['loss'], label = 'loss')\n",
    "plt.plot(history.history['val_loss'], label = 'val_loss')\n",
    "plt.legend();"
   ]
  },
  {
   "cell_type": "code",
   "execution_count": 26,
   "metadata": {},
   "outputs": [
    {
     "name": "stdout",
     "output_type": "stream",
     "text": [
      "8/8 [==============================] - 0s 2ms/step - loss: 3130875466219520.0000 - accuracy: 0.1091\n",
      "[3130875466219520.0, 0.10913239419460297]\n"
     ]
    }
   ],
   "source": [
    "score = model.evaluate(nn_x_train, nn_y_train, batch_size=2048)\n",
    "print(score)"
   ]
  },
  {
   "cell_type": "code",
   "execution_count": null,
   "metadata": {},
   "outputs": [],
   "source": []
  }
 ],
 "metadata": {
  "kernelspec": {
   "display_name": "Python 3",
   "language": "python",
   "name": "python3"
  },
  "language_info": {
   "codemirror_mode": {
    "name": "ipython",
    "version": 3
   },
   "file_extension": ".py",
   "mimetype": "text/x-python",
   "name": "python",
   "nbconvert_exporter": "python",
   "pygments_lexer": "ipython3",
   "version": "3.8.1"
  }
 },
 "nbformat": 4,
 "nbformat_minor": 4
}
