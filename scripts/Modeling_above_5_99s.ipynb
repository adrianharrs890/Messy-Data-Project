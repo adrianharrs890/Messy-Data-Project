{
 "cells": [
  {
   "cell_type": "code",
   "execution_count": 146,
   "metadata": {},
   "outputs": [],
   "source": [
    "from numpy import loadtxt\n",
    "import xgboost as xgb\n",
    "from sklearn.linear_model import LinearRegression\n",
    "from sklearn.model_selection import train_test_split\n",
    "from sklearn.metrics import accuracy_score\n",
    "from sklearn.model_selection import cross_val_score, KFold\n",
    "import numpy as np\n",
    "import pandas as pd\n",
    "import time\n",
    "import json\n",
    "import os \n",
    "import shap\n",
    "\n",
    "import matplotlib.pyplot as plt \n",
    "\n",
    "os.chdir('/Users/adrianharris/Desktop/Messy-Data-Project')\n",
    "\n",
    "path = os.getcwd()\n"
   ]
  },
  {
   "cell_type": "code",
   "execution_count": 147,
   "metadata": {},
   "outputs": [],
   "source": [
    "dataset = pd.read_csv('Data/feature_eng_above_5_99s_data.csv')"
   ]
  },
  {
   "cell_type": "code",
   "execution_count": 148,
   "metadata": {},
   "outputs": [
    {
     "data": {
      "text/html": [
       "<div>\n",
       "<style scoped>\n",
       "    .dataframe tbody tr th:only-of-type {\n",
       "        vertical-align: middle;\n",
       "    }\n",
       "\n",
       "    .dataframe tbody tr th {\n",
       "        vertical-align: top;\n",
       "    }\n",
       "\n",
       "    .dataframe thead th {\n",
       "        text-align: right;\n",
       "    }\n",
       "</style>\n",
       "<table border=\"1\" class=\"dataframe\">\n",
       "  <thead>\n",
       "    <tr style=\"text-align: right;\">\n",
       "      <th></th>\n",
       "      <th>level_overall</th>\n",
       "      <th>level_atk</th>\n",
       "      <th>level_def</th>\n",
       "      <th>level_str</th>\n",
       "      <th>level_constiution</th>\n",
       "      <th>level_range</th>\n",
       "      <th>level_prayer</th>\n",
       "      <th>level_magic</th>\n",
       "      <th>level_cooking</th>\n",
       "      <th>level_wood_cutting</th>\n",
       "      <th>...</th>\n",
       "      <th>total_xp_overall</th>\n",
       "      <th>cluster</th>\n",
       "      <th>Basic_member_pure</th>\n",
       "      <th>Obby_Mauler_Pure</th>\n",
       "      <th>Black_Pure</th>\n",
       "      <th>Turmoil_Proselyte_Pure</th>\n",
       "      <th>Barrows_Pure</th>\n",
       "      <th>Anti_Pure</th>\n",
       "      <th>Summoning_Tank_Defence</th>\n",
       "      <th>Skiller_Pure</th>\n",
       "    </tr>\n",
       "  </thead>\n",
       "  <tbody>\n",
       "    <tr>\n",
       "      <th>0</th>\n",
       "      <td>2898</td>\n",
       "      <td>99</td>\n",
       "      <td>99</td>\n",
       "      <td>99</td>\n",
       "      <td>99</td>\n",
       "      <td>99</td>\n",
       "      <td>99</td>\n",
       "      <td>99</td>\n",
       "      <td>99</td>\n",
       "      <td>99</td>\n",
       "      <td>...</td>\n",
       "      <td>4537236260</td>\n",
       "      <td>1</td>\n",
       "      <td>0</td>\n",
       "      <td>0</td>\n",
       "      <td>0</td>\n",
       "      <td>0</td>\n",
       "      <td>0</td>\n",
       "      <td>0</td>\n",
       "      <td>0</td>\n",
       "      <td>0</td>\n",
       "    </tr>\n",
       "    <tr>\n",
       "      <th>1</th>\n",
       "      <td>2898</td>\n",
       "      <td>99</td>\n",
       "      <td>99</td>\n",
       "      <td>99</td>\n",
       "      <td>99</td>\n",
       "      <td>99</td>\n",
       "      <td>99</td>\n",
       "      <td>99</td>\n",
       "      <td>99</td>\n",
       "      <td>99</td>\n",
       "      <td>...</td>\n",
       "      <td>5600000000</td>\n",
       "      <td>1</td>\n",
       "      <td>0</td>\n",
       "      <td>0</td>\n",
       "      <td>0</td>\n",
       "      <td>0</td>\n",
       "      <td>0</td>\n",
       "      <td>0</td>\n",
       "      <td>0</td>\n",
       "      <td>0</td>\n",
       "    </tr>\n",
       "    <tr>\n",
       "      <th>2</th>\n",
       "      <td>2898</td>\n",
       "      <td>99</td>\n",
       "      <td>99</td>\n",
       "      <td>99</td>\n",
       "      <td>99</td>\n",
       "      <td>99</td>\n",
       "      <td>99</td>\n",
       "      <td>99</td>\n",
       "      <td>99</td>\n",
       "      <td>99</td>\n",
       "      <td>...</td>\n",
       "      <td>3347652512</td>\n",
       "      <td>2</td>\n",
       "      <td>0</td>\n",
       "      <td>0</td>\n",
       "      <td>0</td>\n",
       "      <td>0</td>\n",
       "      <td>0</td>\n",
       "      <td>0</td>\n",
       "      <td>0</td>\n",
       "      <td>0</td>\n",
       "    </tr>\n",
       "    <tr>\n",
       "      <th>3</th>\n",
       "      <td>2898</td>\n",
       "      <td>99</td>\n",
       "      <td>99</td>\n",
       "      <td>99</td>\n",
       "      <td>99</td>\n",
       "      <td>99</td>\n",
       "      <td>99</td>\n",
       "      <td>99</td>\n",
       "      <td>99</td>\n",
       "      <td>99</td>\n",
       "      <td>...</td>\n",
       "      <td>5600000000</td>\n",
       "      <td>1</td>\n",
       "      <td>0</td>\n",
       "      <td>0</td>\n",
       "      <td>0</td>\n",
       "      <td>0</td>\n",
       "      <td>0</td>\n",
       "      <td>0</td>\n",
       "      <td>0</td>\n",
       "      <td>0</td>\n",
       "    </tr>\n",
       "    <tr>\n",
       "      <th>4</th>\n",
       "      <td>2898</td>\n",
       "      <td>99</td>\n",
       "      <td>99</td>\n",
       "      <td>99</td>\n",
       "      <td>99</td>\n",
       "      <td>99</td>\n",
       "      <td>99</td>\n",
       "      <td>99</td>\n",
       "      <td>99</td>\n",
       "      <td>99</td>\n",
       "      <td>...</td>\n",
       "      <td>5600000000</td>\n",
       "      <td>1</td>\n",
       "      <td>0</td>\n",
       "      <td>0</td>\n",
       "      <td>0</td>\n",
       "      <td>0</td>\n",
       "      <td>0</td>\n",
       "      <td>0</td>\n",
       "      <td>0</td>\n",
       "      <td>0</td>\n",
       "    </tr>\n",
       "  </tbody>\n",
       "</table>\n",
       "<p>5 rows × 39 columns</p>\n",
       "</div>"
      ],
      "text/plain": [
       "   level_overall  level_atk  level_def  level_str  level_constiution  \\\n",
       "0           2898         99         99         99                 99   \n",
       "1           2898         99         99         99                 99   \n",
       "2           2898         99         99         99                 99   \n",
       "3           2898         99         99         99                 99   \n",
       "4           2898         99         99         99                 99   \n",
       "\n",
       "   level_range  level_prayer  level_magic  level_cooking  level_wood_cutting  \\\n",
       "0           99            99           99             99                  99   \n",
       "1           99            99           99             99                  99   \n",
       "2           99            99           99             99                  99   \n",
       "3           99            99           99             99                  99   \n",
       "4           99            99           99             99                  99   \n",
       "\n",
       "   ...  total_xp_overall  cluster  Basic_member_pure  Obby_Mauler_Pure  \\\n",
       "0  ...        4537236260        1                  0                 0   \n",
       "1  ...        5600000000        1                  0                 0   \n",
       "2  ...        3347652512        2                  0                 0   \n",
       "3  ...        5600000000        1                  0                 0   \n",
       "4  ...        5600000000        1                  0                 0   \n",
       "\n",
       "   Black_Pure  Turmoil_Proselyte_Pure  Barrows_Pure  Anti_Pure  \\\n",
       "0           0                       0             0          0   \n",
       "1           0                       0             0          0   \n",
       "2           0                       0             0          0   \n",
       "3           0                       0             0          0   \n",
       "4           0                       0             0          0   \n",
       "\n",
       "   Summoning_Tank_Defence  Skiller_Pure  \n",
       "0                       0             0  \n",
       "1                       0             0  \n",
       "2                       0             0  \n",
       "3                       0             0  \n",
       "4                       0             0  \n",
       "\n",
       "[5 rows x 39 columns]"
      ]
     },
     "execution_count": 148,
     "metadata": {},
     "output_type": "execute_result"
    }
   ],
   "source": [
    "df = dataset.drop(\"player\", axis=1)\n",
    "\n",
    "df.head()\n"
   ]
  },
  {
   "cell_type": "code",
   "execution_count": 139,
   "metadata": {},
   "outputs": [],
   "source": [
    "# split data into X and y\n",
    "\n",
    "\n",
    "X = df.loc[:, ~df.columns.isin(['total_xp_overall', 'level_overall'])]\n",
    "Y = df.loc[:, 'total_xp_overall']\n",
    "\n",
    "# Training and Testing data\n",
    "seed = 7\n",
    "test_size = 0.33\n",
    "X_train, X_test, y_train, y_test = train_test_split(X, Y, test_size=test_size, random_state=seed)\n"
   ]
  },
  {
   "cell_type": "code",
   "execution_count": 130,
   "metadata": {},
   "outputs": [
    {
     "name": "stdout",
     "output_type": "stream",
     "text": [
      "coefficient of determination: 0.7320692686475014\n",
      "intercept: -299480682.45509267\n",
      "slope: [ 7.54902882e+04  4.58690507e+05  6.64026454e+05 -2.89192554e+06\n",
      " -1.81798268e+05  1.29529883e+05  1.28043564e+06  3.42523568e+05\n",
      " -3.60497122e+05 -8.02756512e+04  1.23354465e+04 -1.09624631e+05\n",
      "  1.56224481e+06 -4.62020138e+04  6.26007494e+05 -2.05817135e+05\n",
      " -9.28164296e+05  2.10315386e+04  3.08158770e+06  5.02324342e+05\n",
      "  2.59165592e+05 -1.10025103e+05 -1.09311689e+06 -9.27077326e+05\n",
      "  2.91924252e+06 -3.69342293e+05  8.40245155e+05 -5.56525070e+05\n",
      "  2.65878712e+07 -1.95805004e+07 -2.83451222e+08 -8.88574868e-06\n",
      "  1.78813934e-07  0.00000000e+00  0.00000000e+00  0.00000000e+00\n",
      " -3.12520841e+08  1.03442693e+07  3.34480493e+08]\n"
     ]
    }
   ],
   "source": [
    "# Linear regression\n",
    "\n",
    "model = LinearRegression()\n",
    "model.fit(X, Y)\n",
    "\n",
    "r_sq = model.score(X, Y)\n",
    "print('coefficient of determination:', r_sq)\n",
    "\n",
    "print('intercept:', model.intercept_)\n",
    "\n",
    "print('slope:', model.coef_)"
   ]
  },
  {
   "cell_type": "code",
   "execution_count": 141,
   "metadata": {},
   "outputs": [
    {
     "data": {
      "text/plain": [
       "XGBRegressor(base_score=0.5, booster='gbtree', callbacks=None,\n",
       "             colsample_bylevel=1, colsample_bynode=1, colsample_bytree=1,\n",
       "             early_stopping_rounds=None, enable_categorical=False,\n",
       "             eval_metric=None, gamma=0, gpu_id=-1, grow_policy='depthwise',\n",
       "             importance_type=None, interaction_constraints='',\n",
       "             learning_rate=0.300000012, max_bin=256, max_cat_to_onehot=4,\n",
       "             max_delta_step=0, max_depth=6, max_leaves=0, min_child_weight=1,\n",
       "             missing=nan, monotone_constraints='()', n_estimators=100, n_jobs=0,\n",
       "             num_parallel_tree=1, objective='reg:squarederror',\n",
       "             predictor='auto', random_state=0, reg_alpha=0, ...)"
      ]
     },
     "execution_count": 141,
     "metadata": {},
     "output_type": "execute_result"
    }
   ],
   "source": [
    "xgbr = xgb.XGBRegressor(verbosity=0) \n",
    "xgbr.fit(X_train, y_train)"
   ]
  },
  {
   "cell_type": "code",
   "execution_count": 142,
   "metadata": {},
   "outputs": [
    {
     "data": {
      "text/plain": [
       "0.7989579451282882"
      ]
     },
     "execution_count": 142,
     "metadata": {},
     "output_type": "execute_result"
    }
   ],
   "source": [
    "y_pred = xgbr.predict(X_test)\n",
    "score = xgbr.score(X_train, y_train) \n",
    "score"
   ]
  },
  {
   "cell_type": "code",
   "execution_count": 143,
   "metadata": {},
   "outputs": [
    {
     "name": "stdout",
     "output_type": "stream",
     "text": [
      "Mean cross-validation score: 0.76\n"
     ]
    }
   ],
   "source": [
    "scores = cross_val_score(xgbr,X_train, y_train,cv=10)\n",
    "print(\"Mean cross-validation score: %.2f\" % scores.mean())"
   ]
  },
  {
   "cell_type": "code",
   "execution_count": 149,
   "metadata": {},
   "outputs": [
    {
     "data": {
      "image/png": "[encoded data removed]",
      "text/plain": [
       "<Figure size 432x288 with 1 Axes>"
      ]
     },
     "metadata": {
      "needs_background": "light"
     },
     "output_type": "display_data"
    }
   ],
   "source": [
    "x_ax = range(len(y_test))\n",
    "plt.plot(x_ax, y_test, label=\"original\")\n",
    "plt.plot(x_ax, y_pred, label=\"predicted\")\n",
    "plt.title(\"Test and predicted data\")\n",
    "plt.legend()\n",
    "plt.show()"
   ]
  },
  {
   "cell_type": "code",
   "execution_count": 145,
   "metadata": {},
   "outputs": [
    {
     "name": "stderr",
     "output_type": "stream",
     "text": [
      "ntree_limit is deprecated, use `iteration_range` or model slicing instead.\n"
     ]
    },
    {
     "data": {
      "image/png": "[encoded data removed]",
      "text/plain": [
       "<Figure size 576x684 with 2 Axes>"
      ]
     },
     "metadata": {
      "needs_background": "light"
     },
     "output_type": "display_data"
    }
   ],
   "source": [
    "explainer = shap.TreeExplainer(xgbr)\n",
    "shap_values = explainer.shap_values(X_test)\n",
    "plot = shap.summary_plot(shap_values,X_test)"
   ]
  },
  {
   "cell_type": "code",
   "execution_count": null,
   "metadata": {},
   "outputs": [],
   "source": []
  },
  {
   "cell_type": "code",
   "execution_count": 183,
   "metadata": {},
   "outputs": [],
   "source": [
    "import math\n",
    "import keras\n",
    "from keras.models import Sequential\n",
    "from keras.layers import Dense\n",
    "from keras.layers import LSTM\n",
    "from sklearn.preprocessing import MinMaxScaler\n",
    "from sklearn.metrics import mean_squared_error\n",
    "from sklearn.preprocessing import RobustScaler \n",
    "\n",
    "from scipy import stats\n",
    "\n",
    "from tensorflow.keras import Sequential\n",
    "from tensorflow.keras.layers import Conv2D, Flatten, Dense, Dropout"
   ]
  },
  {
   "cell_type": "code",
   "execution_count": 184,
   "metadata": {},
   "outputs": [],
   "source": [
    "\n",
    "nn_x_train = np.array(X_train)\n",
    "nn_x_test = np.array(X_test)\n",
    "\n",
    "nn_y_train = np.array(y_train)\n",
    "nn_y_test = np.array(y_test)"
   ]
  },
  {
   "cell_type": "code",
   "execution_count": 185,
   "metadata": {},
   "outputs": [],
   "source": [
    "model = Sequential()\n",
    "model.add(Dense(20, input_dim = len(nn_x_train[0,:]), activation = 'relu')) \n",
    "model.add(Dense(10, activation =  'gelu' ))\n",
    "model.add(Dense(10, activation =  'gelu' ))\n",
    "model.add(Dropout(0.8))\n",
    "model.add(Dense(8, activation =  'relu'))\n",
    "model.add(Dense(1, activation = 'sigmoid'))\n"
   ]
  },
  {
   "cell_type": "code",
   "execution_count": 186,
   "metadata": {},
   "outputs": [],
   "source": [
    "model.compile(loss = 'mse', optimizer = 'adam', metrics = ['accuracy'])"
   ]
  },
  {
   "cell_type": "code",
   "execution_count": 187,
   "metadata": {},
   "outputs": [
    {
     "name": "stdout",
     "output_type": "stream",
     "text": [
      "Epoch 1/10\n",
      "123/123 [==============================] - 1s 2ms/step - loss: 1521703710866859776.0000 - accuracy: 0.0000e+00 - val_loss: 1422309412554407936.0000 - val_accuracy: 0.0000e+00\n",
      "Epoch 2/10\n",
      "123/123 [==============================] - 0s 1ms/step - loss: 1590531092698636544.0000 - accuracy: 0.0000e+00 - val_loss: 1422309412554407936.0000 - val_accuracy: 0.0000e+00\n",
      "Epoch 3/10\n",
      "123/123 [==============================] - 0s 975us/step - loss: 1545553251390498048.0000 - accuracy: 0.0000e+00 - val_loss: 1422309412554407936.0000 - val_accuracy: 0.0000e+00\n",
      "Epoch 4/10\n",
      "123/123 [==============================] - 0s 984us/step - loss: 1614172622691330816.0000 - accuracy: 0.0000e+00 - val_loss: 1422309412554407936.0000 - val_accuracy: 0.0000e+00\n",
      "Epoch 5/10\n",
      "123/123 [==============================] - 0s 1ms/step - loss: 1662560311134565888.0000 - accuracy: 0.0000e+00 - val_loss: 1422309412554407936.0000 - val_accuracy: 0.0000e+00\n",
      "Epoch 6/10\n",
      "123/123 [==============================] - 0s 1ms/step - loss: 1563624358431399168.0000 - accuracy: 0.0000e+00 - val_loss: 1422309412554407936.0000 - val_accuracy: 0.0000e+00\n",
      "Epoch 7/10\n",
      "123/123 [==============================] - 0s 972us/step - loss: 1696470522153875968.0000 - accuracy: 0.0000e+00 - val_loss: 1422309412554407936.0000 - val_accuracy: 0.0000e+00\n",
      "Epoch 8/10\n",
      "123/123 [==============================] - 0s 982us/step - loss: 1731440857457005824.0000 - accuracy: 0.0000e+00 - val_loss: 1422309412554407936.0000 - val_accuracy: 0.0000e+00\n",
      "Epoch 9/10\n",
      "123/123 [==============================] - 0s 2ms/step - loss: 1555310827983753984.0000 - accuracy: 0.0000e+00 - val_loss: 1422309412554407936.0000 - val_accuracy: 0.0000e+00\n",
      "Epoch 10/10\n",
      "123/123 [==============================] - 0s 979us/step - loss: 1500209747650564864.0000 - accuracy: 0.0000e+00 - val_loss: 1422309412554407936.0000 - val_accuracy: 0.0000e+00\n"
     ]
    }
   ],
   "source": [
    "history = model.fit(x = nn_x_train, y = nn_y_train , validation_split=0.2, epochs = 10, verbose = 1)"
   ]
  },
  {
   "cell_type": "code",
   "execution_count": 188,
   "metadata": {},
   "outputs": [
    {
     "data": {
      "image/png": "[encoded data removed]",
      "text/plain": [
       "<Figure size 432x288 with 1 Axes>"
      ]
     },
     "metadata": {
      "needs_background": "light"
     },
     "output_type": "display_data"
    }
   ],
   "source": [
    "# Training loss \n",
    "\n",
    "plt.plot(history.history['loss'], label = 'loss')\n",
    "plt.plot(history.history['val_loss'], label = 'val_loss')\n",
    "plt.legend();"
   ]
  },
  {
   "cell_type": "code",
   "execution_count": 190,
   "metadata": {},
   "outputs": [
    {
     "name": "stdout",
     "output_type": "stream",
     "text": [
      "3/3 [==============================] - 0s 2ms/step - loss: 1538493156994056192.0000 - accuracy: 0.0000e+00\n",
      "[1.5384931569940562e+18, 0.0]\n"
     ]
    }
   ],
   "source": [
    "score = model.evaluate(nn_x_train, nn_y_train, batch_size=2048)\n",
    "print(score)"
   ]
  },
  {
   "cell_type": "code",
   "execution_count": null,
   "metadata": {},
   "outputs": [],
   "source": []
  },
  {
   "cell_type": "code",
   "execution_count": null,
   "metadata": {},
   "outputs": [],
   "source": []
  },
  {
   "cell_type": "code",
   "execution_count": 88,
   "metadata": {},
   "outputs": [],
   "source": []
  },
  {
   "cell_type": "code",
   "execution_count": null,
   "metadata": {},
   "outputs": [],
   "source": []
  }
 ],
 "metadata": {
  "kernelspec": {
   "display_name": "Python 3",
   "language": "python",
   "name": "python3"
  },
  "language_info": {
   "codemirror_mode": {
    "name": "ipython",
    "version": 3
   },
   "file_extension": ".py",
   "mimetype": "text/x-python",
   "name": "python",
   "nbconvert_exporter": "python",
   "pygments_lexer": "ipython3",
   "version": "3.8.1"
  }
 },
 "nbformat": 4,
 "nbformat_minor": 4
}
