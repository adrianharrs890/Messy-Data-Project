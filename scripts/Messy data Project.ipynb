{
 "cells": [
  {
   "cell_type": "code",
   "execution_count": 121,
   "metadata": {},
   "outputs": [],
   "source": [
    "from numpy import loadtxt\n",
    "import xgboost as xgb\n",
    "from sklearn.linear_model import LinearRegression\n",
    "from sklearn.model_selection import train_test_split\n",
    "from sklearn.metrics import accuracy_score\n",
    "from sklearn.model_selection import cross_val_score, KFold\n",
    "import numpy as np\n",
    "import pandas as pd\n",
    "import time\n",
    "import json\n",
    "import os \n",
    "import shap\n",
    "\n",
    "import matplotlib.pyplot as plt \n",
    "\n",
    "os.chdir('/Users/adrianharris/Desktop/Messy-Data-Project')\n",
    "\n",
    "path = os.getcwd()\n"
   ]
  },
  {
   "cell_type": "code",
   "execution_count": 111,
   "metadata": {},
   "outputs": [],
   "source": [
    "dataset = pd.read_csv('Data/feature_eng_data.csv')"
   ]
  },
  {
   "cell_type": "code",
   "execution_count": 112,
   "metadata": {},
   "outputs": [
    {
     "data": {
      "text/html": [
       "<div>\n",
       "<style scoped>\n",
       "    .dataframe tbody tr th:only-of-type {\n",
       "        vertical-align: middle;\n",
       "    }\n",
       "\n",
       "    .dataframe tbody tr th {\n",
       "        vertical-align: top;\n",
       "    }\n",
       "\n",
       "    .dataframe thead th {\n",
       "        text-align: right;\n",
       "    }\n",
       "</style>\n",
       "<table border=\"1\" class=\"dataframe\">\n",
       "  <thead>\n",
       "    <tr style=\"text-align: right;\">\n",
       "      <th></th>\n",
       "      <th>level_overall</th>\n",
       "      <th>level_atk</th>\n",
       "      <th>level_def</th>\n",
       "      <th>level_str</th>\n",
       "      <th>level_constiution</th>\n",
       "      <th>level_range</th>\n",
       "      <th>level_prayer</th>\n",
       "      <th>level_magic</th>\n",
       "      <th>level_cooking</th>\n",
       "      <th>level_wood_cutting</th>\n",
       "      <th>...</th>\n",
       "      <th>level_arc</th>\n",
       "      <th>total_xp_overall</th>\n",
       "      <th>cluster</th>\n",
       "      <th>Basic_member_pure</th>\n",
       "      <th>Obby_Mauler_Pure</th>\n",
       "      <th>Black_Pure</th>\n",
       "      <th>Turmoil_Proselyte_Pure</th>\n",
       "      <th>Barrows_Pure</th>\n",
       "      <th>Anti_Pure</th>\n",
       "      <th>Summoning_Tank_Defence</th>\n",
       "    </tr>\n",
       "  </thead>\n",
       "  <tbody>\n",
       "    <tr>\n",
       "      <th>0</th>\n",
       "      <td>2898</td>\n",
       "      <td>99</td>\n",
       "      <td>99</td>\n",
       "      <td>99</td>\n",
       "      <td>99</td>\n",
       "      <td>99</td>\n",
       "      <td>99</td>\n",
       "      <td>99</td>\n",
       "      <td>99</td>\n",
       "      <td>99</td>\n",
       "      <td>...</td>\n",
       "      <td>120</td>\n",
       "      <td>4537236260</td>\n",
       "      <td>1</td>\n",
       "      <td>0</td>\n",
       "      <td>0</td>\n",
       "      <td>0</td>\n",
       "      <td>0</td>\n",
       "      <td>0</td>\n",
       "      <td>0</td>\n",
       "      <td>0</td>\n",
       "    </tr>\n",
       "    <tr>\n",
       "      <th>1</th>\n",
       "      <td>1521</td>\n",
       "      <td>65</td>\n",
       "      <td>65</td>\n",
       "      <td>63</td>\n",
       "      <td>65</td>\n",
       "      <td>57</td>\n",
       "      <td>55</td>\n",
       "      <td>64</td>\n",
       "      <td>74</td>\n",
       "      <td>65</td>\n",
       "      <td>...</td>\n",
       "      <td>43</td>\n",
       "      <td>22665814</td>\n",
       "      <td>1</td>\n",
       "      <td>0</td>\n",
       "      <td>0</td>\n",
       "      <td>0</td>\n",
       "      <td>0</td>\n",
       "      <td>0</td>\n",
       "      <td>0</td>\n",
       "      <td>0</td>\n",
       "    </tr>\n",
       "    <tr>\n",
       "      <th>2</th>\n",
       "      <td>2898</td>\n",
       "      <td>99</td>\n",
       "      <td>99</td>\n",
       "      <td>99</td>\n",
       "      <td>99</td>\n",
       "      <td>99</td>\n",
       "      <td>99</td>\n",
       "      <td>99</td>\n",
       "      <td>99</td>\n",
       "      <td>99</td>\n",
       "      <td>...</td>\n",
       "      <td>120</td>\n",
       "      <td>5600000000</td>\n",
       "      <td>1</td>\n",
       "      <td>0</td>\n",
       "      <td>0</td>\n",
       "      <td>0</td>\n",
       "      <td>0</td>\n",
       "      <td>0</td>\n",
       "      <td>0</td>\n",
       "      <td>0</td>\n",
       "    </tr>\n",
       "    <tr>\n",
       "      <th>3</th>\n",
       "      <td>755</td>\n",
       "      <td>64</td>\n",
       "      <td>1</td>\n",
       "      <td>81</td>\n",
       "      <td>74</td>\n",
       "      <td>1</td>\n",
       "      <td>52</td>\n",
       "      <td>30</td>\n",
       "      <td>38</td>\n",
       "      <td>36</td>\n",
       "      <td>...</td>\n",
       "      <td>1</td>\n",
       "      <td>4669413</td>\n",
       "      <td>1</td>\n",
       "      <td>0</td>\n",
       "      <td>0</td>\n",
       "      <td>0</td>\n",
       "      <td>0</td>\n",
       "      <td>0</td>\n",
       "      <td>0</td>\n",
       "      <td>0</td>\n",
       "    </tr>\n",
       "    <tr>\n",
       "      <th>4</th>\n",
       "      <td>2898</td>\n",
       "      <td>99</td>\n",
       "      <td>99</td>\n",
       "      <td>99</td>\n",
       "      <td>99</td>\n",
       "      <td>99</td>\n",
       "      <td>99</td>\n",
       "      <td>99</td>\n",
       "      <td>99</td>\n",
       "      <td>99</td>\n",
       "      <td>...</td>\n",
       "      <td>120</td>\n",
       "      <td>3347652512</td>\n",
       "      <td>2</td>\n",
       "      <td>0</td>\n",
       "      <td>0</td>\n",
       "      <td>0</td>\n",
       "      <td>0</td>\n",
       "      <td>0</td>\n",
       "      <td>0</td>\n",
       "      <td>0</td>\n",
       "    </tr>\n",
       "  </tbody>\n",
       "</table>\n",
       "<p>5 rows × 38 columns</p>\n",
       "</div>"
      ],
      "text/plain": [
       "   level_overall  level_atk  level_def  level_str  level_constiution  \\\n",
       "0           2898         99         99         99                 99   \n",
       "1           1521         65         65         63                 65   \n",
       "2           2898         99         99         99                 99   \n",
       "3            755         64          1         81                 74   \n",
       "4           2898         99         99         99                 99   \n",
       "\n",
       "   level_range  level_prayer  level_magic  level_cooking  level_wood_cutting  \\\n",
       "0           99            99           99             99                  99   \n",
       "1           57            55           64             74                  65   \n",
       "2           99            99           99             99                  99   \n",
       "3            1            52           30             38                  36   \n",
       "4           99            99           99             99                  99   \n",
       "\n",
       "   ...  level_arc  total_xp_overall  cluster  Basic_member_pure  \\\n",
       "0  ...        120        4537236260        1                  0   \n",
       "1  ...         43          22665814        1                  0   \n",
       "2  ...        120        5600000000        1                  0   \n",
       "3  ...          1           4669413        1                  0   \n",
       "4  ...        120        3347652512        2                  0   \n",
       "\n",
       "   Obby_Mauler_Pure  Black_Pure  Turmoil_Proselyte_Pure  Barrows_Pure  \\\n",
       "0                 0           0                       0             0   \n",
       "1                 0           0                       0             0   \n",
       "2                 0           0                       0             0   \n",
       "3                 0           0                       0             0   \n",
       "4                 0           0                       0             0   \n",
       "\n",
       "   Anti_Pure  Summoning_Tank_Defence  \n",
       "0          0                       0  \n",
       "1          0                       0  \n",
       "2          0                       0  \n",
       "3          0                       0  \n",
       "4          0                       0  \n",
       "\n",
       "[5 rows x 38 columns]"
      ]
     },
     "execution_count": 112,
     "metadata": {},
     "output_type": "execute_result"
    }
   ],
   "source": [
    "df = dataset.drop(\"player\", axis=1)\n",
    "\n",
    "df.head()\n"
   ]
  },
  {
   "cell_type": "code",
   "execution_count": 114,
   "metadata": {},
   "outputs": [],
   "source": [
    "# split data into X and y\n",
    "\n",
    "\n",
    "X = df.loc[:, ~df.columns.isin(['total_xp_overall', 'level_overall'])]\n",
    "Y = df.loc[:, 'total_xp_overall']\n",
    "\n",
    "# Training and Testing data\n",
    "seed = 7\n",
    "test_size = 0.33\n",
    "X_train, X_test, y_train, y_test = train_test_split(X, Y, test_size=test_size, random_state=seed)\n"
   ]
  },
  {
   "cell_type": "code",
   "execution_count": 125,
   "metadata": {},
   "outputs": [
    {
     "name": "stdout",
     "output_type": "stream",
     "text": [
      "coefficient of determination: 0.5933386970538044\n",
      "intercept: -39523032.500848055\n",
      "slope: [ 9.05331807e+05 -1.70279957e+05  1.65378454e+06 -2.50941354e+06\n",
      " -5.92213621e+05 -1.54352866e+06 -4.31605760e+05  5.33815057e+05\n",
      "  1.04064110e+06 -4.50154950e+05 -4.56869181e+05  2.47781785e+05\n",
      " -9.55794708e+05 -1.40083646e+06  4.97273873e+04  4.12349849e+06\n",
      " -3.04408853e+06 -1.14287313e+06  5.93712766e+06  6.45166990e+06\n",
      "  1.37014420e+05 -1.42097116e+06 -2.92384478e+06 -5.58927843e+06\n",
      "  4.44663815e+06 -4.04352779e+06  5.92435919e+06  3.58278171e+06\n",
      "  5.01684896e+07 -1.53715872e+07 -1.89372187e+08 -6.68065964e+06\n",
      "  0.00000000e+00  4.30216521e+06  0.00000000e+00  0.00000000e+00]\n"
     ]
    }
   ],
   "source": [
    "# Linear regression\n",
    "\n",
    "model = LinearRegression()\n",
    "model.fit(X, Y)\n",
    "\n",
    "r_sq = model.score(X, Y)\n",
    "print('coefficient of determination:', r_sq)\n",
    "\n",
    "print('intercept:', model.intercept_)\n",
    "\n",
    "print('slope:', model.coef_)"
   ]
  },
  {
   "cell_type": "code",
   "execution_count": 115,
   "metadata": {},
   "outputs": [
    {
     "data": {
      "text/plain": [
       "XGBRegressor(base_score=0.5, booster='gbtree', callbacks=None,\n",
       "             colsample_bylevel=1, colsample_bynode=1, colsample_bytree=1,\n",
       "             early_stopping_rounds=None, enable_categorical=False,\n",
       "             eval_metric=None, gamma=0, gpu_id=-1, grow_policy='depthwise',\n",
       "             importance_type=None, interaction_constraints='',\n",
       "             learning_rate=0.300000012, max_bin=256, max_cat_to_onehot=4,\n",
       "             max_delta_step=0, max_depth=6, max_leaves=0, min_child_weight=1,\n",
       "             missing=nan, monotone_constraints='()', n_estimators=100, n_jobs=0,\n",
       "             num_parallel_tree=1, objective='reg:squarederror',\n",
       "             predictor='auto', random_state=0, reg_alpha=0, ...)"
      ]
     },
     "execution_count": 115,
     "metadata": {},
     "output_type": "execute_result"
    }
   ],
   "source": [
    "xgbr = xgb.XGBRegressor(verbosity=0) \n",
    "xgbr.fit(X_train, y_train)"
   ]
  },
  {
   "cell_type": "code",
   "execution_count": 117,
   "metadata": {},
   "outputs": [
    {
     "data": {
      "text/plain": [
       "0.878137982227502"
      ]
     },
     "execution_count": 117,
     "metadata": {},
     "output_type": "execute_result"
    }
   ],
   "source": [
    "y_pred = xgbr.predict(X_test)\n",
    "score = xgbr.score(X_train, y_train) \n",
    "score"
   ]
  },
  {
   "cell_type": "code",
   "execution_count": 118,
   "metadata": {},
   "outputs": [
    {
     "name": "stdout",
     "output_type": "stream",
     "text": [
      "Mean cross-validation score: 0.85\n"
     ]
    }
   ],
   "source": [
    "scores = cross_val_score(xgbr,X_train, y_train,cv=10)\n",
    "print(\"Mean cross-validation score: %.2f\" % scores.mean())"
   ]
  },
  {
   "cell_type": "code",
   "execution_count": 119,
   "metadata": {},
   "outputs": [
    {
     "data": {
      "image/png": "[encoded data removed]",
      "text/plain": [
       "<Figure size 432x288 with 1 Axes>"
      ]
     },
     "metadata": {
      "needs_background": "light"
     },
     "output_type": "display_data"
    }
   ],
   "source": [
    "x_ax = range(len(y_test))\n",
    "plt.plot(x_ax, y_test, label=\"original\")\n",
    "plt.plot(x_ax, y_pred, label=\"predicted\")\n",
    "plt.title(\"Boston test and predicted data\")\n",
    "plt.legend()\n",
    "plt.show()"
   ]
  },
  {
   "cell_type": "code",
   "execution_count": 120,
   "metadata": {},
   "outputs": [
    {
     "name": "stderr",
     "output_type": "stream",
     "text": [
      "ntree_limit is deprecated, use `iteration_range` or model slicing instead.\n"
     ]
    },
    {
     "data": {
      "image/png": "[encoded data removed]",
      "text/plain": [
       "<Figure size 576x684 with 2 Axes>"
      ]
     },
     "metadata": {
      "needs_background": "light"
     },
     "output_type": "display_data"
    }
   ],
   "source": [
    "explainer = shap.TreeExplainer(xgbr)\n",
    "shap_values = explainer.shap_values(X_test)\n",
    "plot = shap.summary_plot(shap_values,X_test)"
   ]
  },
  {
   "cell_type": "code",
   "execution_count": null,
   "metadata": {},
   "outputs": [],
   "source": []
  },
  {
   "cell_type": "code",
   "execution_count": 54,
   "metadata": {},
   "outputs": [],
   "source": []
  },
  {
   "cell_type": "code",
   "execution_count": null,
   "metadata": {},
   "outputs": [],
   "source": []
  },
  {
   "cell_type": "code",
   "execution_count": null,
   "metadata": {},
   "outputs": [],
   "source": [
    "\n"
   ]
  },
  {
   "cell_type": "code",
   "execution_count": null,
   "metadata": {},
   "outputs": [],
   "source": [
    "\n",
    "\n"
   ]
  },
  {
   "cell_type": "code",
   "execution_count": 80,
   "metadata": {},
   "outputs": [],
   "source": []
  },
  {
   "cell_type": "code",
   "execution_count": null,
   "metadata": {},
   "outputs": [],
   "source": []
  },
  {
   "cell_type": "code",
   "execution_count": null,
   "metadata": {},
   "outputs": [],
   "source": [
    "\n"
   ]
  },
  {
   "cell_type": "code",
   "execution_count": null,
   "metadata": {},
   "outputs": [],
   "source": []
  },
  {
   "cell_type": "code",
   "execution_count": null,
   "metadata": {},
   "outputs": [],
   "source": []
  },
  {
   "cell_type": "code",
   "execution_count": 88,
   "metadata": {},
   "outputs": [],
   "source": []
  },
  {
   "cell_type": "code",
   "execution_count": null,
   "metadata": {},
   "outputs": [],
   "source": []
  }
 ],
 "metadata": {
  "kernelspec": {
   "display_name": "Python 3",
   "language": "python",
   "name": "python3"
  },
  "language_info": {
   "codemirror_mode": {
    "name": "ipython",
    "version": 3
   },
   "file_extension": ".py",
   "mimetype": "text/x-python",
   "name": "python",
   "nbconvert_exporter": "python",
   "pygments_lexer": "ipython3",
   "version": "3.8.1"
  }
 },
 "nbformat": 4,
 "nbformat_minor": 4
}
